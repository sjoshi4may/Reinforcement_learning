{
 "cells": [
  {
   "cell_type": "code",
   "execution_count": null,
   "metadata": {},
   "outputs": [],
   "source": [
    "import pandas as pd\n",
    "import numpy as np\n",
    "import matplotlib.pyplot as plt\n",
    "from itertools import product\n",
    "from collections import Counter\n",
    "import pickle,random"
   ]
  },
  {
   "cell_type": "code",
   "execution_count": null,
   "metadata": {},
   "outputs": [],
   "source": [
    "%matplotlib inline"
   ]
  },
  {
   "cell_type": "code",
   "execution_count": null,
   "metadata": {},
   "outputs": [],
   "source": [
    "def game_over(test,flag):\n",
    "    res = np.concatenate([test.sum(axis=0),test.sum(axis=1)])\n",
    "    res = np.append(res,np.array(np.trace(test) ))\n",
    "    res = np.append(res,np.array(np.trace(np.fliplr(test))))\n",
    "    counts = Counter(res)\n",
    "    \n",
    "    if len(test[test==0])<1:\n",
    "        flag = 'game over'\n",
    "    if counts.get(3,0)==1 or counts.get(-3,0)==1:\n",
    "        flag='game over'\n",
    "    return flag\n",
    "\n",
    "def check_valid_state(test):\n",
    "    res = np.concatenate([test.sum(axis=0),test.sum(axis=1)])\n",
    "    res = np.append(res,np.array(np.trace(test) ))\n",
    "    res = np.append(res,np.array(np.trace(np.fliplr(test))))\n",
    "    counts = Counter(res)\n",
    "    if counts.get(-3,0)>2 or counts.get(3,0)>1:\n",
    "        return 0\n",
    "    else:\n",
    "        return 1\n",
    "    \n",
    "# Assign proper probabilities to winning and losing states\n",
    "def assign_prob(test,prob):\n",
    "    res = np.concatenate([test.sum(axis=0),test.sum(axis=1)])\n",
    "    res = np.append(res,np.array(np.trace(test) ))\n",
    "    res = np.append(res,np.array(np.trace(np.fliplr(test))))\n",
    "    \n",
    "    counts = Counter(res)\n",
    "    if counts.get(3,0)>=1:\n",
    "        return 1\n",
    "    elif counts.get(-3,0)>=1:\n",
    "        return 0\n",
    "    else:\n",
    "        return prob"
   ]
  },
  {
   "cell_type": "markdown",
   "metadata": {},
   "source": [
    "### Value function based approach"
   ]
  },
  {
   "cell_type": "markdown",
   "metadata": {},
   "source": [
    "1. Setup a table of numbers, one for each possible state.-- 3**9 states\n",
    "2. Remove invalid states.\n",
    "3. Assign initial probability of winning from each state i.e  VALUE. The whole table is the value function.\n",
    "4. To select our move, we consider all possible states from current state and choose the one with highest value (greedy) but sometimes we choose randomly as well(exploration).\n",
    "5. While playing we update the current state values to make them more accurate estimate of winning probability.\n",
    "6. The current value of the earlier state is adjusted to be closer to the value of the later state i.e\n",
    "    If we let s denote the state before the greedy move, and s′ the state after the move, then the update to the estimated value of s, denoted V(s), can be written as \n",
    "                    V(s) = V(s) + a(V(s') - V(s))  , temporal difference learning rate"
   ]
  },
  {
   "cell_type": "code",
   "execution_count": null,
   "metadata": {},
   "outputs": [],
   "source": [
    "# Create all states\n",
    "K=3\n",
    "N=3\n",
    "all_states = pd.DataFrame([(np.reshape(np.array(i),(K,N)) for i in product([-1,1,0],repeat=K*N))]).T\n",
    "\n",
    "all_states['probability'] = 1/2\n",
    "all_states.columns = ['state','probability']\n",
    "\n",
    "all_states['valid'] = all_states.apply(lambda x: check_valid_state(x['state']),axis=1)\n",
    "\n",
    "val_states = all_states[all_states['valid']==1].reset_index(drop=True)\n",
    "val_states['num_blanks'] = val_states['state'].apply(lambda x: x[x==0].shape[0])\n",
    "\n",
    "val_states['probability'] = val_states['state'].apply(lambda x: assign_prob(x))"
   ]
  },
  {
   "cell_type": "code",
   "execution_count": null,
   "metadata": {},
   "outputs": [],
   "source": [
    "val_states = pd.read_pickle('./tic_tac_toe_rand_agnt_policy.pkl')"
   ]
  },
  {
   "cell_type": "markdown",
   "metadata": {},
   "source": [
    "# Play the game"
   ]
  },
  {
   "cell_type": "code",
   "execution_count": null,
   "metadata": {
    "scrolled": true
   },
   "outputs": [],
   "source": [
    "## Playing against a random opponent\n",
    "alpha = 0.2\n",
    "\n",
    "ai_mv = 1\n",
    "opp_mv = -1\n",
    "flag = 'continue'\n",
    "\n",
    "for k in range(5000):\n",
    "    flag = 'continue'\n",
    "    explore_exploit_flag = 'exploit'\n",
    "    i=1\n",
    "    initial_state = np.array([[0, 0, 0], [0, 0, 0], [0, 0, 0]])\n",
    "    cur_state = pickle.loads(pickle.dumps(val_states.loc[val_states['state'].apply(lambda x: (x==initial_state).all())].squeeze()))\n",
    "    print(f'#################### Match {k} ####################')\n",
    "    while flag=='continue':\n",
    "        if i%2==0:\n",
    "            test = pickle.loads(pickle.dumps(cur_state['state']))\n",
    "            pos_states = []\n",
    "            for row,col in np.argwhere(test==0):\n",
    "                test[row,col] = ai_mv\n",
    "                st = pickle.loads(pickle.dumps(val_states[val_states['state'].apply(lambda x: (x==test).all())]))\n",
    "                pos_states.append(st)\n",
    "                test[row,col]=0\n",
    "            pos_states = pd.concat(pos_states)\n",
    "            explore_exploit_flag = np.random.choice(['exploit','explore'],p=[0.6,0.4])\n",
    "            if explore_exploit_flag=='explore':\n",
    "                next_stg = pickle.loads(pickle.dumps(pos_states.sample(1,weights=pos_states['probability']).squeeze()))            \n",
    "            else:\n",
    "                next_stg = pickle.loads(pickle.dumps(pos_states[pos_states['probability']==pos_states['probability'].max()].sample(1).squeeze()))\n",
    "            \n",
    "    \n",
    "        else:\n",
    "            #r = int(input())\n",
    "            #c = int(input())\n",
    "            next_stg = pickle.loads(pickle.dumps(cur_state))\n",
    "            r,c = random.choice(np.argwhere(next_stg['state']==0))\n",
    "            next_stg['state'][r,c]=opp_mv\n",
    "            next_stg = pickle.loads(pickle.dumps(val_states.loc[val_states['state'].apply(lambda x: (x==next_stg['state']).all())].squeeze()))\n",
    "\n",
    "\n",
    "            \n",
    "        next_prob = next_stg['probability']\n",
    "        # update\n",
    "        cur_index = val_states.loc[val_states['state'].apply(lambda x: (x==cur_state['state']).all())].index[0].copy()\n",
    "        cur_prob = val_states.loc[cur_index,'probability']\n",
    "        update = alpha*(next_prob-cur_prob)\n",
    "        val_states.loc[cur_index,'probability']+=update        \n",
    "            \n",
    "        cur_state = pickle.loads(pickle.dumps(next_stg))\n",
    "        #print('-------------------------')\n",
    "            \n",
    "        #fig, ax = plt.subplots()\n",
    "        #Using matshow here just because it sets the ticks up nicely. imshow is faster.\n",
    "        #ax.matshow(cur_state['state'], cmap='Oranges')\n",
    "\n",
    "        #for (p, k), z in np.ndenumerate(cur_state['state']):\n",
    "        #    ax.text(k,p, '{:0.1f}'.format(z), ha='center', va='center')\n",
    "\n",
    "        #plt.show()\n",
    "        \n",
    "        \n",
    "        i+=1\n",
    "        flag = game_over(next_stg['state'],flag)\n",
    "        \n",
    "        if flag=='game over':\n",
    "            break\n",
    "        \n"
   ]
  },
  {
   "cell_type": "code",
   "execution_count": null,
   "metadata": {
    "scrolled": true
   },
   "outputs": [],
   "source": [
    "val_states['probability'] = val_states.apply(lambda x: assign_prob(x['state'],x['probability']),axis=1)"
   ]
  },
  {
   "cell_type": "code",
   "execution_count": null,
   "metadata": {},
   "outputs": [],
   "source": [
    "val_states.to_pickle('./tic_tac_toe_rand_agnt_policy.pkl')    "
   ]
  },
  {
   "cell_type": "code",
   "execution_count": null,
   "metadata": {},
   "outputs": [],
   "source": [
    "initial_state = np.array([[0, 0, 0], [-1, -1, 0], [0, 0, 1]])\n",
    "cur_state = pickle.loads(pickle.dumps(val_states.loc[val_states['state'].apply(lambda x: (x==initial_state).all())].squeeze()))\n",
    "test = pickle.loads(pickle.dumps(cur_state['state']))\n",
    "pos_states = []\n",
    "for row,col in np.argwhere(test==0):\n",
    "    test[row,col] = ai_mv\n",
    "    st = pickle.loads(pickle.dumps(val_states[val_states['state'].apply(lambda x: (x==test).all())]))\n",
    "    pos_states.append(st)\n",
    "    test[row,col]=0\n",
    "pos_states = pd.concat(pos_states)"
   ]
  },
  {
   "cell_type": "code",
   "execution_count": null,
   "metadata": {},
   "outputs": [],
   "source": [
    "pos_states"
   ]
  },
  {
   "cell_type": "code",
   "execution_count": null,
   "metadata": {},
   "outputs": [],
   "source": []
  }
 ],
 "metadata": {
  "kernelspec": {
   "display_name": "Python 3",
   "language": "python",
   "name": "python3"
  },
  "language_info": {
   "codemirror_mode": {
    "name": "ipython",
    "version": 3
   },
   "file_extension": ".py",
   "mimetype": "text/x-python",
   "name": "python",
   "nbconvert_exporter": "python",
   "pygments_lexer": "ipython3",
   "version": "3.7.4"
  }
 },
 "nbformat": 4,
 "nbformat_minor": 2
}
